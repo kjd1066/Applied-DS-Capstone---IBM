{
  "nbformat": 4,
  "nbformat_minor": 0,
  "metadata": {
    "colab": {
      "provenance": [],
      "authorship_tag": "ABX9TyMlLdr3FpqjJePcJSliKP9+",
      "include_colab_link": true
    },
    "kernelspec": {
      "name": "python3",
      "display_name": "Python 3"
    },
    "language_info": {
      "name": "python"
    }
  },
  "cells": [
    {
      "cell_type": "markdown",
      "metadata": {
        "id": "view-in-github",
        "colab_type": "text"
      },
      "source": [
        "<a href=\"https://colab.research.google.com/github/kjd1066/Applied-DS-Capstone---IBM/blob/master/lesson2.ipynb\" target=\"_parent\"><img src=\"https://colab.research.google.com/assets/colab-badge.svg\" alt=\"Open In Colab\"/></a>"
      ]
    },
    {
      "cell_type": "code",
      "execution_count": 21,
      "metadata": {
        "colab": {
          "base_uri": "https://localhost:8080/"
        },
        "id": "zz7vyLfOdNtb",
        "outputId": "15273eb0-d59c-4bcc-e58e-471816ba2c02"
      },
      "outputs": [
        {
          "output_type": "stream",
          "name": "stdout",
          "text": [
            "dt1/dt2 33.572693306313724\n"
          ]
        }
      ],
      "source": [
        "## speed comparison ##\n",
        "import numpy as np\n",
        "\n",
        "from datetime import datetime\n",
        "\n",
        "# note: you can also use %timeit\n",
        "\n",
        "a = np.random.randn(100)\n",
        "b = np.random.randn(100)\n",
        "T = 100000\n",
        "\n",
        "def slow_dot_product(a,b):\n",
        "  result = 0\n",
        "  for e, f in zip(a,b):\n",
        "    result += e*f\n",
        "  return result\n",
        "\n",
        "t0 = datetime.now()\n",
        "for t in range (T):\n",
        "    slow_dot_product(a,b)\n",
        "dt1 = datetime.now() - t0\n",
        "\n",
        "t0 = datetime.now()\n",
        "for t in range (T):\n",
        "    a.dot(b)\n",
        "dt2 = datetime.now() - t0\n",
        "\n",
        "print('dt1/dt2', dt1.total_seconds()/ dt2.total_seconds())\n",
        "\n"
      ]
    }
  ]
}